{
 "cells": [
  {
   "cell_type": "markdown",
   "id": "7deaab47-3b29-47f9-8b07-cb37416c9eef",
   "metadata": {},
   "source": [
    "## Galaxies vs quasars with neural networks.\n",
    "\n",
    "Let's go back to our galaxy vs quasar data we've used in a previous exercise. \n",
    "\n",
    "1. Read in SDSS galaxy color data from `solutions/galaxyquasar.csv`. Create arrays for the $(u-g)$, $(g-r)$, $(r-i)$, and $(i-z)$ colors. Also create an array with the class labels where galaxy=$0$ and quasar=$1$. \n",
    "\n",
    "2. Now we're going to fit a neural network classifier. First, scale your data appropriately and do a 30% train/test split.\n",
    "\n",
    "3. Now train the classifier. Use one the package among those we've seen. These include Tensorflow via keras, pytorch, and the MPL classifier implemented in scikit-learn. This is an opportunity to pick the one you're most interested in learning. \n",
    "\n",
    "3. Start from a network architecture with a single hidden layer with 5 neurons, using the `adam` solver, the `relu` activation function, and a learninig rate of `0.001`. Plot the resulting ROC curve. \n",
    "\n",
    "4. Now let's optimize the hyperparameters of your network. Explore different hyperparameters and see what fits the data best.  Do your best now to optimize the network architecture. Be creative!\n",
    "\n",
    "5. Is your best result comparable with the simpler classifiers we've seen before? Do we need deep learning here? If yes, which features are captured best?\n",
    "\n",
    "\n",
    "A few tips:\n",
    "\n",
    "- In scikit-learn, remember that you can utilize all availables cores on your machine with `n_jobs=-1`. Print out the classification score for the training data, and the best parameters obtained by the cross validation.\n",
    "- If it takes too long, run the hyperparameter optimization on a subset of the training set. Then retrain the full network using the best hyperparameters only.\n",
    "- On cross validation, for scikit learn we've seen how to use `GridSearchCV` already. For Tensorflow, there's a really cool tool called [Tensorboard](https://www.tensorflow.org/tensorboard)"
   ]
  },
  {
   "cell_type": "code",
   "execution_count": 1,
   "id": "329c8c49-0206-42e1-90e6-cc60657aae21",
   "metadata": {},
   "outputs": [],
   "source": [
    "import numpy as np\n",
    "import matplotlib.pyplot as plt\n",
    "import corner\n",
    "import pandas as pd\n",
    "import tensorflow as tf\n",
    "from tensorflow import keras\n",
    "from tensorboard.plugins.hparams import api as hp\n",
    "from tensorboard import notebook\n",
    "from sklearn.model_selection import train_test_split, GridSearchCV\n",
    "from sklearn.preprocessing import StandardScaler\n",
    "from sklearn.metrics import confusion_matrix, roc_curve, accuracy_score, roc_auc_score\n",
    "from astroML.classification import GMMBayes\n",
    "from astroML.utils import completeness_contamination\n",
    "\n",
    "%load_ext tensorboard"
   ]
  },
  {
   "cell_type": "code",
   "execution_count": 3,
   "id": "cbe5d2e5-8444-4959-9c74-c80bf160edb4",
   "metadata": {},
   "outputs": [],
   "source": [
    "data = pd.read_csv(\"../solutions/galaxyquasar.csv\")"
   ]
  },
  {
   "cell_type": "code",
   "execution_count": 5,
   "id": "5ce8e8ac-7a75-4b00-aa85-506f0846c264",
   "metadata": {},
   "outputs": [],
   "source": [
    "#Define the colors and classes\n",
    "\n",
    "ug = np.array(data[\"u\"] - data[\"g\"])\n",
    "gr = np.array(data[\"g\"] - data[\"r\"])\n",
    "ri = np.array(data[\"r\"] - data[\"i\"])\n",
    "iz = np.array(data[\"i\"] - data[\"z\"])\n",
    "\n",
    "colors = np.vstack((ug, gr, ri, iz)).T\n",
    "classes = np.array(data[\"class\"] == \"QSO\", dtype=int)"
   ]
  },
  {
   "cell_type": "code",
   "execution_count": 7,
   "id": "e3364b94-eb3a-49c6-83f1-082f2e6fabe2",
   "metadata": {},
   "outputs": [],
   "source": [
    "#Train and test split\n",
    "train_X, test_X, train_y, test_y = train_test_split(colors, classes, train_size=0.7)\n",
    "train_X = train_X[:, :]\n",
    "test_X = test_X[:, :]\n",
    "\n",
    "#Validation and test split\n",
    "val_X, test_X, val_y, test_y = train_test_split(test_X, test_y, train_size=0.5)\n",
    "\n",
    "#Scaling\n",
    "scaler = StandardScaler()\n",
    "train_X_s = scaler.fit_transform(train_X)\n",
    "val_X_s = scaler.transform(val_X)\n",
    "test_X_s = scaler.transform(test_X)"
   ]
  },
  {
   "cell_type": "markdown",
   "id": "a95b00f0-5930-47eb-a707-3d9cdc594f3a",
   "metadata": {},
   "source": [
    "## Neural network hyperparameter tuning"
   ]
  },
  {
   "cell_type": "code",
   "execution_count": 9,
   "id": "a6f0c279-415b-477c-abb9-3c7ef000628e",
   "metadata": {},
   "outputs": [],
   "source": [
    "# %%sh\n",
    "# rm -rf ./logs/"
   ]
  },
  {
   "cell_type": "code",
   "execution_count": 11,
   "id": "6f848647-19a6-43e0-9b2b-df8660880278",
   "metadata": {},
   "outputs": [],
   "source": [
    "#Define hyperparameters, metrics and the log file\n",
    "\n",
    "HP_NUM_UNITS = hp.HParam(\"num_units\", hp.Discrete([30, 50, 100]))\n",
    "HP_DROPOUT = hp.HParam(\"dropout\", hp.Discrete([0.2, 0.5, 0.8]))\n",
    "HP_OPTIMIZER = hp.HParam(\"optimizer\", hp.Discrete([\"adam\", \"adagrad\"]))\n",
    "HP_ACTIVATION = hp.HParam(\"activation\", hp.Discrete([\"relu\", \"sigmoid\"]))\n",
    "\n",
    "METRIC_ACCURACY = \"accuracy\"\n",
    "METRIC_RECALL = \"recall\"\n",
    "\n",
    "with tf.summary.create_file_writer(\"logs/hparam_tuning\").as_default():\n",
    "  hp.hparams_config(\n",
    "    hparams=[HP_NUM_UNITS, HP_DROPOUT, HP_OPTIMIZER, HP_ACTIVATION],\n",
    "    metrics=[hp.Metric(METRIC_ACCURACY, display_name=\"Accuracy\"), hp.Metric(METRIC_RECALL, display_name=\"Recall\")],\n",
    "  )"
   ]
  },
  {
   "cell_type": "code",
   "execution_count": 13,
   "id": "c60e725d-d0ec-4701-8043-c5bdefa3ec96",
   "metadata": {},
   "outputs": [],
   "source": [
    "#Define the model\n",
    "\n",
    "def train_test_model(hparams):\n",
    "    model = keras.models.Sequential([\n",
    "        keras.layers.InputLayer(input_shape=train_X_s.shape[-1]),\n",
    "        keras.layers.Dense(hparams[HP_NUM_UNITS], activation=hparams[HP_ACTIVATION]),\n",
    "        keras.layers.Dropout(hparams[HP_DROPOUT]),\n",
    "        keras.layers.Dense(units=1, activation=\"sigmoid\")\n",
    "    ])\n",
    "    \n",
    "    model.compile(loss=keras.losses.BinaryCrossentropy(), \n",
    "                  optimizer=hparams[HP_OPTIMIZER], \n",
    "                  metrics=[keras.metrics.BinaryAccuracy(name=\"binary accuracy\"), keras.metrics.Recall(name=\"recall\")])\n",
    "    \n",
    "    fit = model.fit(train_X_s, train_y, epochs=3, validation_data=(val_X_s, val_y), use_multiprocessing=True)\n",
    "\n",
    "    _, accuracy, recall = model.evaluate(test_X_s, test_y)\n",
    "    \n",
    "    return accuracy, recall"
   ]
  },
  {
   "cell_type": "code",
   "execution_count": 15,
   "id": "3d1bf86a-6fc2-4271-907d-b53262ba7215",
   "metadata": {},
   "outputs": [],
   "source": [
    "#Define the run function\n",
    "\n",
    "def run(run_dir, hparams):\n",
    "  with tf.summary.create_file_writer(run_dir).as_default():\n",
    "    hp.hparams(hparams)  # Record the values used in this trial\n",
    "      \n",
    "    accuracy, recall = train_test_model(hparams)\n",
    "    tf.summary.scalar(METRIC_ACCURACY, accuracy, step=1)\n",
    "    tf.summary.scalar(METRIC_RECALL, recall, step=1)"
   ]
  },
  {
   "cell_type": "code",
   "execution_count": 17,
   "id": "49d1de3c-eae6-4cd7-bf1d-3c290fcb063b",
   "metadata": {},
   "outputs": [],
   "source": [
    "keras.backend.clear_session()"
   ]
  },
  {
   "cell_type": "code",
   "execution_count": 25,
   "id": "ddb378f6-3319-472b-a081-1eeed0162c51",
   "metadata": {},
   "outputs": [
    {
     "name": "stdout",
     "output_type": "stream",
     "text": [
      "--- Starting trial: run_0\n",
      "{'num_units': 30, 'dropout': 0.2, 'optimizer': 'adagrad', 'activation': 'relu'}\n",
      "Epoch 1/3\n",
      "1094/1094 [==============================] - 3s 2ms/step - loss: 0.5156 - binary accuracy: 0.8861 - recall: 0.6316 - val_loss: 0.4621 - val_binary accuracy: 0.9360 - val_recall: 0.7664\n",
      "Epoch 2/3\n",
      "1094/1094 [==============================] - 2s 2ms/step - loss: 0.4372 - binary accuracy: 0.9201 - recall: 0.7024 - val_loss: 0.4117 - val_binary accuracy: 0.9539 - val_recall: 0.8549\n",
      "Epoch 3/3\n",
      "1094/1094 [==============================] - 2s 2ms/step - loss: 0.3975 - binary accuracy: 0.9328 - recall: 0.7432 - val_loss: 0.3789 - val_binary accuracy: 0.9625 - val_recall: 0.8969\n",
      "235/235 [==============================] - 0s 1ms/step - loss: 0.3711 - binary accuracy: 0.9605 - recall: 0.8714\n",
      "--- Starting trial: run_1\n",
      "{'num_units': 50, 'dropout': 0.2, 'optimizer': 'adagrad', 'activation': 'relu'}\n",
      "Epoch 1/3\n",
      "1094/1094 [==============================] - 3s 2ms/step - loss: 0.5375 - binary accuracy: 0.8683 - recall: 0.7066 - val_loss: 0.4731 - val_binary accuracy: 0.9420 - val_recall: 0.9234\n",
      "Epoch 2/3\n",
      "1094/1094 [==============================] - 2s 2ms/step - loss: 0.4411 - binary accuracy: 0.9213 - recall: 0.8321 - val_loss: 0.4110 - val_binary accuracy: 0.9505 - val_recall: 0.9261\n",
      "Epoch 3/3\n",
      "1094/1094 [==============================] - 2s 2ms/step - loss: 0.3911 - binary accuracy: 0.9393 - recall: 0.8709 - val_loss: 0.3710 - val_binary accuracy: 0.9571 - val_recall: 0.9270\n",
      "235/235 [==============================] - 0s 1ms/step - loss: 0.3725 - binary accuracy: 0.9537 - recall: 0.9080\n",
      "--- Starting trial: run_2\n",
      "{'num_units': 100, 'dropout': 0.2, 'optimizer': 'adagrad', 'activation': 'relu'}\n",
      "Epoch 1/3\n",
      "1094/1094 [==============================] - 3s 2ms/step - loss: 0.5542 - binary accuracy: 0.8143 - recall: 0.9582 - val_loss: 0.4635 - val_binary accuracy: 0.9135 - val_recall: 0.9580\n",
      "Epoch 2/3\n",
      "1094/1094 [==============================] - 2s 2ms/step - loss: 0.4175 - binary accuracy: 0.9347 - recall: 0.9465 - val_loss: 0.3814 - val_binary accuracy: 0.9461 - val_recall: 0.9480\n",
      "Epoch 3/3\n",
      "1094/1094 [==============================] - 2s 2ms/step - loss: 0.3545 - binary accuracy: 0.9535 - recall: 0.9397 - val_loss: 0.3325 - val_binary accuracy: 0.9595 - val_recall: 0.9453\n",
      "235/235 [==============================] - 0s 1ms/step - loss: 0.3341 - binary accuracy: 0.9547 - recall: 0.9238\n",
      "--- Starting trial: run_3\n",
      "{'num_units': 30, 'dropout': 0.5, 'optimizer': 'adagrad', 'activation': 'relu'}\n",
      "Epoch 1/3\n",
      "1094/1094 [==============================] - 3s 2ms/step - loss: 0.6913 - binary accuracy: 0.6061 - recall: 0.6469 - val_loss: 0.6161 - val_binary accuracy: 0.8553 - val_recall: 0.9261\n",
      "Epoch 2/3\n",
      "1094/1094 [==============================] - 2s 2ms/step - loss: 0.6038 - binary accuracy: 0.8171 - recall: 0.6360 - val_loss: 0.5515 - val_binary accuracy: 0.9045 - val_recall: 0.9215\n",
      "Epoch 3/3\n",
      "1094/1094 [==============================] - 2s 2ms/step - loss: 0.5503 - binary accuracy: 0.8646 - recall: 0.6588 - val_loss: 0.5069 - val_binary accuracy: 0.9277 - val_recall: 0.9224\n",
      "235/235 [==============================] - 0s 1ms/step - loss: 0.5055 - binary accuracy: 0.9236 - recall: 0.9031\n",
      "--- Starting trial: run_4\n",
      "{'num_units': 50, 'dropout': 0.5, 'optimizer': 'adagrad', 'activation': 'relu'}\n",
      "Epoch 1/3\n",
      "1094/1094 [==============================] - 3s 2ms/step - loss: 0.5965 - binary accuracy: 0.7840 - recall: 0.8092 - val_loss: 0.5124 - val_binary accuracy: 0.9299 - val_recall: 0.9498\n",
      "Epoch 2/3\n",
      "1094/1094 [==============================] - 2s 2ms/step - loss: 0.4784 - binary accuracy: 0.9172 - recall: 0.8456 - val_loss: 0.4373 - val_binary accuracy: 0.9483 - val_recall: 0.9453\n",
      "Epoch 3/3\n",
      "1094/1094 [==============================] - 2s 2ms/step - loss: 0.4212 - binary accuracy: 0.9333 - recall: 0.8546 - val_loss: 0.3901 - val_binary accuracy: 0.9564 - val_recall: 0.9425\n",
      "235/235 [==============================] - 0s 1ms/step - loss: 0.3917 - binary accuracy: 0.9521 - recall: 0.9179\n",
      "--- Starting trial: run_5\n",
      "{'num_units': 100, 'dropout': 0.5, 'optimizer': 'adagrad', 'activation': 'relu'}\n",
      "Epoch 1/3\n",
      "1094/1094 [==============================] - 3s 2ms/step - loss: 0.5388 - binary accuracy: 0.8617 - recall: 0.4388 - val_loss: 0.4519 - val_binary accuracy: 0.9677 - val_recall: 0.8723\n",
      "Epoch 2/3\n",
      "1094/1094 [==============================] - 2s 2ms/step - loss: 0.4142 - binary accuracy: 0.9224 - recall: 0.7078 - val_loss: 0.3752 - val_binary accuracy: 0.9655 - val_recall: 0.9005\n",
      "Epoch 3/3\n",
      "1094/1094 [==============================] - 2s 2ms/step - loss: 0.3563 - binary accuracy: 0.9399 - recall: 0.7887 - val_loss: 0.3296 - val_binary accuracy: 0.9681 - val_recall: 0.9106\n",
      "235/235 [==============================] - 0s 1ms/step - loss: 0.3303 - binary accuracy: 0.9652 - recall: 0.8793\n",
      "--- Starting trial: run_6\n",
      "{'num_units': 30, 'dropout': 0.8, 'optimizer': 'adagrad', 'activation': 'relu'}\n",
      "Epoch 1/3\n",
      "1094/1094 [==============================] - 3s 2ms/step - loss: 0.6803 - binary accuracy: 0.6491 - recall: 0.5305 - val_loss: 0.5731 - val_binary accuracy: 0.8568 - val_recall: 0.7016\n",
      "Epoch 2/3\n",
      "1094/1094 [==============================] - 2s 2ms/step - loss: 0.5870 - binary accuracy: 0.7667 - recall: 0.5516 - val_loss: 0.5116 - val_binary accuracy: 0.8916 - val_recall: 0.7646\n",
      "Epoch 3/3\n",
      "1094/1094 [==============================] - 2s 2ms/step - loss: 0.5376 - binary accuracy: 0.8139 - recall: 0.5562 - val_loss: 0.4718 - val_binary accuracy: 0.9079 - val_recall: 0.7911\n",
      "235/235 [==============================] - 0s 1ms/step - loss: 0.4637 - binary accuracy: 0.9096 - recall: 0.7814\n",
      "--- Starting trial: run_7\n",
      "{'num_units': 50, 'dropout': 0.8, 'optimizer': 'adagrad', 'activation': 'relu'}\n",
      "Epoch 1/3\n",
      "1094/1094 [==============================] - 3s 2ms/step - loss: 0.5888 - binary accuracy: 0.7779 - recall: 0.5667 - val_loss: 0.4915 - val_binary accuracy: 0.9691 - val_recall: 0.9580\n",
      "Epoch 2/3\n",
      "1094/1094 [==============================] - 2s 2ms/step - loss: 0.5105 - binary accuracy: 0.8567 - recall: 0.5930 - val_loss: 0.4392 - val_binary accuracy: 0.9739 - val_recall: 0.9516\n",
      "Epoch 3/3\n",
      "1094/1094 [==============================] - 2s 2ms/step - loss: 0.4685 - binary accuracy: 0.8793 - recall: 0.6224 - val_loss: 0.4041 - val_binary accuracy: 0.9756 - val_recall: 0.9480\n",
      "235/235 [==============================] - 0s 1ms/step - loss: 0.3964 - binary accuracy: 0.9713 - recall: 0.9219\n",
      "--- Starting trial: run_8\n",
      "{'num_units': 100, 'dropout': 0.8, 'optimizer': 'adagrad', 'activation': 'relu'}\n",
      "Epoch 1/3\n",
      "1094/1094 [==============================] - 3s 2ms/step - loss: 0.5820 - binary accuracy: 0.7870 - recall: 0.5474 - val_loss: 0.4809 - val_binary accuracy: 0.9320 - val_recall: 0.8513\n",
      "Epoch 2/3\n",
      "1094/1094 [==============================] - 2s 2ms/step - loss: 0.4658 - binary accuracy: 0.8791 - recall: 0.6004 - val_loss: 0.4085 - val_binary accuracy: 0.9505 - val_recall: 0.8777\n",
      "Epoch 3/3\n",
      "1094/1094 [==============================] - 2s 2ms/step - loss: 0.4071 - binary accuracy: 0.9006 - recall: 0.6511 - val_loss: 0.3651 - val_binary accuracy: 0.9584 - val_recall: 0.8905\n",
      "235/235 [==============================] - 0s 1ms/step - loss: 0.3631 - binary accuracy: 0.9549 - recall: 0.8625\n",
      "--- Starting trial: run_9\n",
      "{'num_units': 30, 'dropout': 0.2, 'optimizer': 'adam', 'activation': 'relu'}\n",
      "Epoch 1/3\n",
      "1094/1094 [==============================] - 3s 2ms/step - loss: 0.1939 - binary accuracy: 0.9579 - recall: 0.9204 - val_loss: 0.0799 - val_binary accuracy: 0.9836 - val_recall: 0.9270\n",
      "Epoch 2/3\n",
      "1094/1094 [==============================] - 2s 2ms/step - loss: 0.0815 - binary accuracy: 0.9823 - recall: 0.9224 - val_loss: 0.0736 - val_binary accuracy: 0.9837 - val_recall: 0.9325\n",
      "Epoch 3/3\n",
      "1094/1094 [==============================] - 2s 2ms/step - loss: 0.0820 - binary accuracy: 0.9819 - recall: 0.9180 - val_loss: 0.0728 - val_binary accuracy: 0.9839 - val_recall: 0.9343\n",
      "235/235 [==============================] - 0s 2ms/step - loss: 0.0831 - binary accuracy: 0.9792 - recall: 0.9120\n",
      "--- Starting trial: run_10\n",
      "{'num_units': 50, 'dropout': 0.2, 'optimizer': 'adam', 'activation': 'relu'}\n",
      "Epoch 1/3\n",
      "1094/1094 [==============================] - 3s 2ms/step - loss: 0.1526 - binary accuracy: 0.9709 - recall: 0.8697 - val_loss: 0.0745 - val_binary accuracy: 0.9827 - val_recall: 0.9288\n",
      "Epoch 2/3\n",
      "1094/1094 [==============================] - 2s 2ms/step - loss: 0.0788 - binary accuracy: 0.9820 - recall: 0.9180 - val_loss: 0.0676 - val_binary accuracy: 0.9837 - val_recall: 0.9352\n",
      "Epoch 3/3\n",
      "1094/1094 [==============================] - 2s 2ms/step - loss: 0.0754 - binary accuracy: 0.9829 - recall: 0.9228 - val_loss: 0.0665 - val_binary accuracy: 0.9837 - val_recall: 0.9334\n",
      "235/235 [==============================] - 0s 1ms/step - loss: 0.0795 - binary accuracy: 0.9791 - recall: 0.9110\n",
      "--- Starting trial: run_11\n",
      "{'num_units': 100, 'dropout': 0.2, 'optimizer': 'adam', 'activation': 'relu'}\n",
      "Epoch 1/3\n",
      "1094/1094 [==============================] - 3s 2ms/step - loss: 0.1415 - binary accuracy: 0.9734 - recall: 0.8956 - val_loss: 0.0690 - val_binary accuracy: 0.9833 - val_recall: 0.9288\n",
      "Epoch 2/3\n",
      "1094/1094 [==============================] - 2s 2ms/step - loss: 0.0737 - binary accuracy: 0.9824 - recall: 0.9214 - val_loss: 0.0752 - val_binary accuracy: 0.9843 - val_recall: 0.9325\n",
      "Epoch 3/3\n",
      "1094/1094 [==============================] - 2s 2ms/step - loss: 0.0700 - binary accuracy: 0.9833 - recall: 0.9238 - val_loss: 0.0674 - val_binary accuracy: 0.9839 - val_recall: 0.9380\n",
      "235/235 [==============================] - 0s 1ms/step - loss: 0.0810 - binary accuracy: 0.9793 - recall: 0.9179\n",
      "--- Starting trial: run_12\n",
      "{'num_units': 30, 'dropout': 0.5, 'optimizer': 'adam', 'activation': 'relu'}\n",
      "Epoch 1/3\n",
      "1094/1094 [==============================] - 3s 2ms/step - loss: 0.2340 - binary accuracy: 0.9329 - recall: 0.8687 - val_loss: 0.0811 - val_binary accuracy: 0.9821 - val_recall: 0.9270\n",
      "Epoch 2/3\n",
      "1094/1094 [==============================] - 3s 2ms/step - loss: 0.0934 - binary accuracy: 0.9799 - recall: 0.9115 - val_loss: 0.0742 - val_binary accuracy: 0.9823 - val_recall: 0.9288\n",
      "Epoch 3/3\n",
      "1094/1094 [==============================] - 2s 2ms/step - loss: 0.0886 - binary accuracy: 0.9806 - recall: 0.9153 - val_loss: 0.0768 - val_binary accuracy: 0.9828 - val_recall: 0.9279\n",
      "235/235 [==============================] - 0s 1ms/step - loss: 0.0826 - binary accuracy: 0.9791 - recall: 0.9080\n",
      "--- Starting trial: run_13\n",
      "{'num_units': 50, 'dropout': 0.5, 'optimizer': 'adam', 'activation': 'relu'}\n",
      "Epoch 1/3\n",
      "1094/1094 [==============================] - 3s 2ms/step - loss: 0.1651 - binary accuracy: 0.9594 - recall: 0.8635 - val_loss: 0.0740 - val_binary accuracy: 0.9835 - val_recall: 0.9334\n",
      "Epoch 2/3\n",
      "1094/1094 [==============================] - 2s 2ms/step - loss: 0.0857 - binary accuracy: 0.9810 - recall: 0.9135 - val_loss: 0.0742 - val_binary accuracy: 0.9833 - val_recall: 0.9334\n",
      "Epoch 3/3\n",
      "1094/1094 [==============================] - 2s 2ms/step - loss: 0.0853 - binary accuracy: 0.9808 - recall: 0.9145 - val_loss: 0.0747 - val_binary accuracy: 0.9836 - val_recall: 0.9270\n",
      "235/235 [==============================] - 0s 1ms/step - loss: 0.0809 - binary accuracy: 0.9799 - recall: 0.9041\n",
      "--- Starting trial: run_14\n",
      "{'num_units': 100, 'dropout': 0.5, 'optimizer': 'adam', 'activation': 'relu'}\n",
      "Epoch 1/3\n",
      "1094/1094 [==============================] - 3s 2ms/step - loss: 0.1481 - binary accuracy: 0.9662 - recall: 0.9019 - val_loss: 0.0770 - val_binary accuracy: 0.9832 - val_recall: 0.9334\n",
      "Epoch 2/3\n",
      "1094/1094 [==============================] - 2s 2ms/step - loss: 0.0799 - binary accuracy: 0.9815 - recall: 0.9180 - val_loss: 0.0678 - val_binary accuracy: 0.9832 - val_recall: 0.9316\n",
      "Epoch 3/3\n",
      "1094/1094 [==============================] - 2s 2ms/step - loss: 0.0775 - binary accuracy: 0.9817 - recall: 0.9194 - val_loss: 0.0665 - val_binary accuracy: 0.9837 - val_recall: 0.9325\n",
      "235/235 [==============================] - 0s 1ms/step - loss: 0.0808 - binary accuracy: 0.9796 - recall: 0.9130\n",
      "--- Starting trial: run_15\n",
      "{'num_units': 30, 'dropout': 0.8, 'optimizer': 'adam', 'activation': 'relu'}\n",
      "Epoch 1/3\n",
      "1094/1094 [==============================] - 3s 2ms/step - loss: 0.3395 - binary accuracy: 0.9074 - recall: 0.7515 - val_loss: 0.1042 - val_binary accuracy: 0.9819 - val_recall: 0.9215\n",
      "Epoch 2/3\n",
      "1094/1094 [==============================] - 2s 2ms/step - loss: 0.1607 - binary accuracy: 0.9681 - recall: 0.8438 - val_loss: 0.0824 - val_binary accuracy: 0.9839 - val_recall: 0.9325\n",
      "Epoch 3/3\n",
      "1094/1094 [==============================] - 2s 2ms/step - loss: 0.1388 - binary accuracy: 0.9714 - recall: 0.8580 - val_loss: 0.0812 - val_binary accuracy: 0.9823 - val_recall: 0.9352\n",
      "235/235 [==============================] - 0s 1ms/step - loss: 0.0868 - binary accuracy: 0.9787 - recall: 0.9159\n",
      "--- Starting trial: run_16\n",
      "{'num_units': 50, 'dropout': 0.8, 'optimizer': 'adam', 'activation': 'relu'}\n",
      "Epoch 1/3\n",
      "1094/1094 [==============================] - 3s 2ms/step - loss: 0.2448 - binary accuracy: 0.9349 - recall: 0.8504 - val_loss: 0.0865 - val_binary accuracy: 0.9831 - val_recall: 0.9261\n",
      "Epoch 2/3\n",
      "1094/1094 [==============================] - 2s 2ms/step - loss: 0.1230 - binary accuracy: 0.9753 - recall: 0.8874 - val_loss: 0.0758 - val_binary accuracy: 0.9828 - val_recall: 0.9307\n",
      "Epoch 3/3\n",
      "1094/1094 [==============================] - 2s 2ms/step - loss: 0.1096 - binary accuracy: 0.9777 - recall: 0.8989 - val_loss: 0.0785 - val_binary accuracy: 0.9825 - val_recall: 0.9361\n",
      "235/235 [==============================] - 0s 1ms/step - loss: 0.0868 - binary accuracy: 0.9795 - recall: 0.9189\n",
      "--- Starting trial: run_17\n",
      "{'num_units': 100, 'dropout': 0.8, 'optimizer': 'adam', 'activation': 'relu'}\n",
      "Epoch 1/3\n",
      "1094/1094 [==============================] - 3s 2ms/step - loss: 0.1770 - binary accuracy: 0.9570 - recall: 0.8450 - val_loss: 0.0812 - val_binary accuracy: 0.9835 - val_recall: 0.9316\n",
      "Epoch 2/3\n",
      "1094/1094 [==============================] - 3s 2ms/step - loss: 0.0944 - binary accuracy: 0.9806 - recall: 0.9135 - val_loss: 0.0732 - val_binary accuracy: 0.9836 - val_recall: 0.9370\n",
      "Epoch 3/3\n",
      "1094/1094 [==============================] - 2s 2ms/step - loss: 0.0928 - binary accuracy: 0.9805 - recall: 0.9149 - val_loss: 0.0716 - val_binary accuracy: 0.9835 - val_recall: 0.9334\n",
      "235/235 [==============================] - 0s 1ms/step - loss: 0.0852 - binary accuracy: 0.9795 - recall: 0.9139\n",
      "--- Starting trial: run_18\n",
      "{'num_units': 30, 'dropout': 0.2, 'optimizer': 'adagrad', 'activation': 'sigmoid'}\n",
      "Epoch 1/3\n",
      "1094/1094 [==============================] - 3s 2ms/step - loss: 0.6220 - binary accuracy: 0.6739 - recall: 0.5182 - val_loss: 0.5065 - val_binary accuracy: 0.8555 - val_recall: 0.0182\n",
      "Epoch 2/3\n",
      "1094/1094 [==============================] - 2s 2ms/step - loss: 0.4737 - binary accuracy: 0.8581 - recall: 0.2423 - val_loss: 0.4272 - val_binary accuracy: 0.8536 - val_recall: 0.0018\n",
      "Epoch 3/3\n",
      "1094/1094 [==============================] - 2s 2ms/step - loss: 0.4156 - binary accuracy: 0.8688 - recall: 0.1526 - val_loss: 0.3851 - val_binary accuracy: 0.8536 - val_recall: 0.0018\n",
      "235/235 [==============================] - 0s 1ms/step - loss: 0.3785 - binary accuracy: 0.8651 - recall: 0.0020\n",
      "--- Starting trial: run_19\n",
      "{'num_units': 50, 'dropout': 0.2, 'optimizer': 'adagrad', 'activation': 'sigmoid'}\n",
      "Epoch 1/3\n",
      "1094/1094 [==============================] - 3s 2ms/step - loss: 0.3930 - binary accuracy: 0.8569 - recall: 0.0233 - val_loss: 0.3454 - val_binary accuracy: 0.8536 - val_recall: 9.1241e-04\n",
      "Epoch 2/3\n",
      "1094/1094 [==============================] - 2s 2ms/step - loss: 0.3381 - binary accuracy: 0.8569 - recall: 0.0066 - val_loss: 0.3171 - val_binary accuracy: 0.8536 - val_recall: 9.1241e-04\n",
      "Epoch 3/3\n",
      "1094/1094 [==============================] - 2s 2ms/step - loss: 0.3138 - binary accuracy: 0.8577 - recall: 0.0113 - val_loss: 0.2984 - val_binary accuracy: 0.8537 - val_recall: 0.0018\n",
      "235/235 [==============================] - 0s 1ms/step - loss: 0.2881 - binary accuracy: 0.8652 - recall: 0.0020\n",
      "--- Starting trial: run_20\n",
      "{'num_units': 100, 'dropout': 0.2, 'optimizer': 'adagrad', 'activation': 'sigmoid'}\n",
      "Epoch 1/3\n",
      "1094/1094 [==============================] - 3s 2ms/step - loss: 0.4191 - binary accuracy: 0.8473 - recall: 0.0219 - val_loss: 0.3616 - val_binary accuracy: 0.8539 - val_recall: 0.0000e+00\n",
      "Epoch 2/3\n",
      "1094/1094 [==============================] - 2s 2ms/step - loss: 0.3499 - binary accuracy: 0.8566 - recall: 0.0024 - val_loss: 0.3273 - val_binary accuracy: 0.8539 - val_recall: 0.0000e+00\n",
      "Epoch 3/3\n",
      "1094/1094 [==============================] - 2s 2ms/step - loss: 0.3220 - binary accuracy: 0.8569 - recall: 0.0064 - val_loss: 0.3023 - val_binary accuracy: 0.8537 - val_recall: 0.0000e+00\n",
      "235/235 [==============================] - 0s 1ms/step - loss: 0.2919 - binary accuracy: 0.8653 - recall: 9.8912e-04\n",
      "--- Starting trial: run_21\n",
      "{'num_units': 30, 'dropout': 0.5, 'optimizer': 'adagrad', 'activation': 'sigmoid'}\n",
      "Epoch 1/3\n",
      "1094/1094 [==============================] - 3s 2ms/step - loss: 1.0600 - binary accuracy: 0.2661 - recall: 0.8216 - val_loss: 0.8252 - val_binary accuracy: 0.1464 - val_recall: 1.0000\n",
      "Epoch 2/3\n",
      "1094/1094 [==============================] - 5s 4ms/step - loss: 0.7890 - binary accuracy: 0.4595 - recall: 0.6531 - val_loss: 0.6621 - val_binary accuracy: 0.7387 - val_recall: 0.9735\n",
      "Epoch 3/3\n",
      "1094/1094 [==============================] - 2s 2ms/step - loss: 0.6659 - binary accuracy: 0.5953 - recall: 0.5423 - val_loss: 0.5686 - val_binary accuracy: 0.9505 - val_recall: 0.6770\n",
      "235/235 [==============================] - 0s 1ms/step - loss: 0.5674 - binary accuracy: 0.9475 - recall: 0.6340\n",
      "--- Starting trial: run_22\n",
      "{'num_units': 50, 'dropout': 0.5, 'optimizer': 'adagrad', 'activation': 'sigmoid'}\n",
      "Epoch 1/3\n",
      "1094/1094 [==============================] - 3s 2ms/step - loss: 0.4485 - binary accuracy: 0.8329 - recall: 0.0374 - val_loss: 0.3778 - val_binary accuracy: 0.8535 - val_recall: 0.0000e+00\n",
      "Epoch 2/3\n",
      "1094/1094 [==============================] - 2s 2ms/step - loss: 0.3946 - binary accuracy: 0.8531 - recall: 0.0231 - val_loss: 0.3501 - val_binary accuracy: 0.8537 - val_recall: 0.0000e+00\n",
      "Epoch 3/3\n",
      "1094/1094 [==============================] - 2s 2ms/step - loss: 0.3693 - binary accuracy: 0.8558 - recall: 0.0259 - val_loss: 0.3306 - val_binary accuracy: 0.8537 - val_recall: 0.0000e+00\n",
      "235/235 [==============================] - 0s 1ms/step - loss: 0.3165 - binary accuracy: 0.8652 - recall: 0.0000e+00\n",
      "--- Starting trial: run_23\n",
      "{'num_units': 100, 'dropout': 0.5, 'optimizer': 'adagrad', 'activation': 'sigmoid'}\n",
      "Epoch 1/3\n",
      "1094/1094 [==============================] - 3s 2ms/step - loss: 0.5007 - binary accuracy: 0.7857 - recall: 0.1064 - val_loss: 0.3891 - val_binary accuracy: 0.8539 - val_recall: 0.0000e+00\n",
      "Epoch 2/3\n",
      "1094/1094 [==============================] - 2s 2ms/step - loss: 0.3984 - binary accuracy: 0.8536 - recall: 0.0179 - val_loss: 0.3572 - val_binary accuracy: 0.8539 - val_recall: 0.0000e+00\n",
      "Epoch 3/3\n",
      "1094/1094 [==============================] - 2s 2ms/step - loss: 0.3726 - binary accuracy: 0.8569 - recall: 0.0231 - val_loss: 0.3358 - val_binary accuracy: 0.8539 - val_recall: 0.0000e+00\n",
      "235/235 [==============================] - 0s 1ms/step - loss: 0.3218 - binary accuracy: 0.8652 - recall: 0.0000e+00\n",
      "--- Starting trial: run_24\n",
      "{'num_units': 30, 'dropout': 0.8, 'optimizer': 'adagrad', 'activation': 'sigmoid'}\n",
      "Epoch 1/3\n",
      "1094/1094 [==============================] - 3s 2ms/step - loss: 0.6463 - binary accuracy: 0.6623 - recall: 0.3688 - val_loss: 0.3994 - val_binary accuracy: 0.8537 - val_recall: 0.0000e+00\n",
      "Epoch 2/3\n",
      "1094/1094 [==============================] - 2s 2ms/step - loss: 0.5600 - binary accuracy: 0.7219 - recall: 0.3113 - val_loss: 0.3634 - val_binary accuracy: 0.8539 - val_recall: 0.0000e+00\n",
      "Epoch 3/3\n",
      "1094/1094 [==============================] - 2s 2ms/step - loss: 0.5140 - binary accuracy: 0.7515 - recall: 0.2904 - val_loss: 0.3439 - val_binary accuracy: 0.8539 - val_recall: 0.0000e+00\n",
      "235/235 [==============================] - 0s 1ms/step - loss: 0.3344 - binary accuracy: 0.8652 - recall: 9.8912e-04\n",
      "--- Starting trial: run_25\n",
      "{'num_units': 50, 'dropout': 0.8, 'optimizer': 'adagrad', 'activation': 'sigmoid'}\n",
      "Epoch 1/3\n",
      "1094/1094 [==============================] - 3s 2ms/step - loss: 0.5089 - binary accuracy: 0.7699 - recall: 0.1908 - val_loss: 0.3541 - val_binary accuracy: 0.8539 - val_recall: 0.0000e+00\n",
      "Epoch 2/3\n",
      "1094/1094 [==============================] - 2s 2ms/step - loss: 0.4489 - binary accuracy: 0.8138 - recall: 0.1579 - val_loss: 0.3361 - val_binary accuracy: 0.8539 - val_recall: 0.0000e+00\n",
      "Epoch 3/3\n",
      "1094/1094 [==============================] - 2s 2ms/step - loss: 0.4273 - binary accuracy: 0.8240 - recall: 0.1339 - val_loss: 0.3241 - val_binary accuracy: 0.8539 - val_recall: 0.0000e+00\n",
      "235/235 [==============================] - 0s 1ms/step - loss: 0.3101 - binary accuracy: 0.8652 - recall: 0.0000e+00\n",
      "--- Starting trial: run_26\n",
      "{'num_units': 100, 'dropout': 0.8, 'optimizer': 'adagrad', 'activation': 'sigmoid'}\n",
      "Epoch 1/3\n",
      "1094/1094 [==============================] - 3s 2ms/step - loss: 0.5478 - binary accuracy: 0.7700 - recall: 0.1502 - val_loss: 0.3863 - val_binary accuracy: 0.8539 - val_recall: 0.0000e+00\n",
      "Epoch 2/3\n",
      "1094/1094 [==============================] - 3s 2ms/step - loss: 0.4809 - binary accuracy: 0.8159 - recall: 0.0959 - val_loss: 0.3639 - val_binary accuracy: 0.8539 - val_recall: 0.0000e+00\n",
      "Epoch 3/3\n",
      "1094/1094 [==============================] - 2s 2ms/step - loss: 0.4511 - binary accuracy: 0.8280 - recall: 0.1015 - val_loss: 0.3462 - val_binary accuracy: 0.8539 - val_recall: 0.0000e+00\n",
      "235/235 [==============================] - 0s 2ms/step - loss: 0.3287 - binary accuracy: 0.8652 - recall: 0.0000e+00\n",
      "--- Starting trial: run_27\n",
      "{'num_units': 30, 'dropout': 0.2, 'optimizer': 'adam', 'activation': 'sigmoid'}\n",
      "Epoch 1/3\n",
      "1094/1094 [==============================] - 3s 2ms/step - loss: 0.2083 - binary accuracy: 0.9312 - recall: 0.5747 - val_loss: 0.1193 - val_binary accuracy: 0.9761 - val_recall: 0.8905\n",
      "Epoch 2/3\n",
      "1094/1094 [==============================] - 2s 2ms/step - loss: 0.1085 - binary accuracy: 0.9757 - recall: 0.8898 - val_loss: 0.0850 - val_binary accuracy: 0.9817 - val_recall: 0.9243\n",
      "Epoch 3/3\n",
      "1094/1094 [==============================] - 2s 2ms/step - loss: 0.0887 - binary accuracy: 0.9801 - recall: 0.9111 - val_loss: 0.0744 - val_binary accuracy: 0.9836 - val_recall: 0.9343\n",
      "235/235 [==============================] - 0s 1ms/step - loss: 0.0889 - binary accuracy: 0.9787 - recall: 0.9090\n",
      "--- Starting trial: run_28\n",
      "{'num_units': 50, 'dropout': 0.2, 'optimizer': 'adam', 'activation': 'sigmoid'}\n",
      "Epoch 1/3\n",
      "1094/1094 [==============================] - 3s 2ms/step - loss: 0.1799 - binary accuracy: 0.9455 - recall: 0.6821 - val_loss: 0.1054 - val_binary accuracy: 0.9779 - val_recall: 0.9024\n",
      "Epoch 2/3\n",
      "1094/1094 [==============================] - 2s 2ms/step - loss: 0.0990 - binary accuracy: 0.9781 - recall: 0.9033 - val_loss: 0.0793 - val_binary accuracy: 0.9829 - val_recall: 0.9307\n",
      "Epoch 3/3\n",
      "1094/1094 [==============================] - 2s 2ms/step - loss: 0.0845 - binary accuracy: 0.9812 - recall: 0.9188 - val_loss: 0.0737 - val_binary accuracy: 0.9832 - val_recall: 0.9343\n",
      "235/235 [==============================] - 0s 2ms/step - loss: 0.0879 - binary accuracy: 0.9788 - recall: 0.9120\n",
      "--- Starting trial: run_29\n",
      "{'num_units': 100, 'dropout': 0.2, 'optimizer': 'adam', 'activation': 'sigmoid'}\n",
      "Epoch 1/3\n",
      "1094/1094 [==============================] - 3s 2ms/step - loss: 0.1754 - binary accuracy: 0.9429 - recall: 0.7241 - val_loss: 0.1005 - val_binary accuracy: 0.9784 - val_recall: 0.9078\n",
      "Epoch 2/3\n",
      "1094/1094 [==============================] - 3s 2ms/step - loss: 0.0941 - binary accuracy: 0.9793 - recall: 0.9077 - val_loss: 0.0783 - val_binary accuracy: 0.9831 - val_recall: 0.9261\n",
      "Epoch 3/3\n",
      "1094/1094 [==============================] - 3s 2ms/step - loss: 0.0821 - binary accuracy: 0.9823 - recall: 0.9230 - val_loss: 0.0744 - val_binary accuracy: 0.9832 - val_recall: 0.9407\n",
      "235/235 [==============================] - 0s 2ms/step - loss: 0.0901 - binary accuracy: 0.9792 - recall: 0.9189\n",
      "--- Starting trial: run_30\n",
      "{'num_units': 30, 'dropout': 0.5, 'optimizer': 'adam', 'activation': 'sigmoid'}\n",
      "Epoch 1/3\n",
      "1094/1094 [==============================] - 3s 2ms/step - loss: 0.2361 - binary accuracy: 0.9140 - recall: 0.5445 - val_loss: 0.1292 - val_binary accuracy: 0.9764 - val_recall: 0.8823\n",
      "Epoch 2/3\n",
      "1094/1094 [==============================] - 2s 2ms/step - loss: 0.1318 - binary accuracy: 0.9661 - recall: 0.8470 - val_loss: 0.0941 - val_binary accuracy: 0.9811 - val_recall: 0.9151\n",
      "Epoch 3/3\n",
      "1094/1094 [==============================] - 2s 2ms/step - loss: 0.1090 - binary accuracy: 0.9740 - recall: 0.8868 - val_loss: 0.0807 - val_binary accuracy: 0.9835 - val_recall: 0.9288\n",
      "235/235 [==============================] - 0s 2ms/step - loss: 0.0947 - binary accuracy: 0.9792 - recall: 0.9050\n",
      "--- Starting trial: run_31\n",
      "{'num_units': 50, 'dropout': 0.5, 'optimizer': 'adam', 'activation': 'sigmoid'}\n",
      "Epoch 1/3\n",
      "1094/1094 [==============================] - 3s 2ms/step - loss: 0.1980 - binary accuracy: 0.9312 - recall: 0.6127 - val_loss: 0.1125 - val_binary accuracy: 0.9768 - val_recall: 0.8942\n",
      "Epoch 2/3\n",
      "1094/1094 [==============================] - 2s 2ms/step - loss: 0.1203 - binary accuracy: 0.9695 - recall: 0.8673 - val_loss: 0.0882 - val_binary accuracy: 0.9811 - val_recall: 0.9215\n",
      "Epoch 3/3\n",
      "1094/1094 [==============================] - 2s 2ms/step - loss: 0.1023 - binary accuracy: 0.9761 - recall: 0.8993 - val_loss: 0.0797 - val_binary accuracy: 0.9829 - val_recall: 0.9288\n",
      "235/235 [==============================] - 0s 1ms/step - loss: 0.0943 - binary accuracy: 0.9783 - recall: 0.9041\n",
      "--- Starting trial: run_32\n",
      "{'num_units': 100, 'dropout': 0.5, 'optimizer': 'adam', 'activation': 'sigmoid'}\n",
      "Epoch 1/3\n",
      "1094/1094 [==============================] - 5s 4ms/step - loss: 0.1822 - binary accuracy: 0.9397 - recall: 0.6728 - val_loss: 0.1018 - val_binary accuracy: 0.9785 - val_recall: 0.9015\n",
      "Epoch 2/3\n",
      "1094/1094 [==============================] - 2s 2ms/step - loss: 0.1074 - binary accuracy: 0.9747 - recall: 0.8902 - val_loss: 0.0832 - val_binary accuracy: 0.9825 - val_recall: 0.9224\n",
      "Epoch 3/3\n",
      "1094/1094 [==============================] - 2s 2ms/step - loss: 0.0936 - binary accuracy: 0.9787 - recall: 0.9079 - val_loss: 0.0770 - val_binary accuracy: 0.9836 - val_recall: 0.9316\n",
      "235/235 [==============================] - 0s 1ms/step - loss: 0.0919 - binary accuracy: 0.9781 - recall: 0.9031\n",
      "--- Starting trial: run_33\n",
      "{'num_units': 30, 'dropout': 0.8, 'optimizer': 'adam', 'activation': 'sigmoid'}\n",
      "Epoch 1/3\n",
      "1094/1094 [==============================] - 3s 2ms/step - loss: 0.3164 - binary accuracy: 0.8653 - recall: 0.2954 - val_loss: 0.1757 - val_binary accuracy: 0.9388 - val_recall: 0.5995\n",
      "Epoch 2/3\n",
      "1094/1094 [==============================] - 2s 2ms/step - loss: 0.2096 - binary accuracy: 0.9193 - recall: 0.5942 - val_loss: 0.1434 - val_binary accuracy: 0.9733 - val_recall: 0.8485\n",
      "Epoch 3/3\n",
      "1094/1094 [==============================] - 2s 2ms/step - loss: 0.1804 - binary accuracy: 0.9373 - recall: 0.7124 - val_loss: 0.1221 - val_binary accuracy: 0.9792 - val_recall: 0.8987\n",
      "235/235 [==============================] - 0s 1ms/step - loss: 0.1328 - binary accuracy: 0.9733 - recall: 0.8605\n",
      "--- Starting trial: run_34\n",
      "{'num_units': 50, 'dropout': 0.8, 'optimizer': 'adam', 'activation': 'sigmoid'}\n",
      "Epoch 1/3\n",
      "1094/1094 [==============================] - 3s 2ms/step - loss: 0.2877 - binary accuracy: 0.8781 - recall: 0.3981 - val_loss: 0.1488 - val_binary accuracy: 0.9704 - val_recall: 0.8303\n",
      "Epoch 2/3\n",
      "1094/1094 [==============================] - 2s 2ms/step - loss: 0.1769 - binary accuracy: 0.9405 - recall: 0.7133 - val_loss: 0.1214 - val_binary accuracy: 0.9779 - val_recall: 0.8932\n",
      "Epoch 3/3\n",
      "1094/1094 [==============================] - 2s 2ms/step - loss: 0.1514 - binary accuracy: 0.9572 - recall: 0.8178 - val_loss: 0.1052 - val_binary accuracy: 0.9803 - val_recall: 0.9106\n",
      "235/235 [==============================] - 0s 2ms/step - loss: 0.1185 - binary accuracy: 0.9764 - recall: 0.8853\n",
      "--- Starting trial: run_35\n",
      "{'num_units': 100, 'dropout': 0.8, 'optimizer': 'adam', 'activation': 'sigmoid'}\n",
      "Epoch 1/3\n",
      "1094/1094 [==============================] - 4s 3ms/step - loss: 0.2643 - binary accuracy: 0.8925 - recall: 0.5365 - val_loss: 0.1261 - val_binary accuracy: 0.9740 - val_recall: 0.8613\n",
      "Epoch 2/3\n",
      "1094/1094 [==============================] - 3s 2ms/step - loss: 0.1527 - binary accuracy: 0.9557 - recall: 0.8060 - val_loss: 0.1052 - val_binary accuracy: 0.9787 - val_recall: 0.8996\n",
      "Epoch 3/3\n",
      "1094/1094 [==============================] - 3s 2ms/step - loss: 0.1290 - binary accuracy: 0.9671 - recall: 0.8681 - val_loss: 0.0938 - val_binary accuracy: 0.9809 - val_recall: 0.9170\n",
      "235/235 [==============================] - 0s 2ms/step - loss: 0.1083 - binary accuracy: 0.9771 - recall: 0.8892\n"
     ]
    }
   ],
   "source": [
    "#Run the sessions to tune the hyperparameters\n",
    "\n",
    "session_num = 0\n",
    "\n",
    "for activation in HP_ACTIVATION.domain.values:\n",
    "    for optimizers in HP_OPTIMIZER.domain.values:\n",
    "        for dropout_rate in HP_DROPOUT.domain.values:\n",
    "            for num_units in HP_NUM_UNITS.domain.values:\n",
    "                hparams = {HP_NUM_UNITS: num_units,\n",
    "                          HP_DROPOUT: dropout_rate,\n",
    "                          HP_OPTIMIZER: optimizers,\n",
    "                          HP_ACTIVATION: activation}\n",
    "                \n",
    "                run_name = \"run_\" + str(session_num)\n",
    "                print('--- Starting trial: ' + str(run_name))\n",
    "                print({h.name: hparams[h] for h in hparams})\n",
    "            \n",
    "                run('logs/hparam_tuning/' + run_name, hparams)\n",
    "                session_num += 1"
   ]
  },
  {
   "cell_type": "code",
   "execution_count": 52,
   "id": "916fa6fb-27f8-44c8-a5ac-2afa5b751e3c",
   "metadata": {},
   "outputs": [
    {
     "data": {
      "text/plain": [
       "Reusing TensorBoard on port 6006 (pid 6148), started 0:38:53 ago. (Use '!kill 6148' to kill it.)"
      ]
     },
     "metadata": {},
     "output_type": "display_data"
    },
    {
     "data": {
      "text/html": [
       "\n",
       "      <iframe id=\"tensorboard-frame-6dd72be8e36be265\" width=\"100%\" height=\"800\" frameborder=\"0\">\n",
       "      </iframe>\n",
       "      <script>\n",
       "        (function() {\n",
       "          const frame = document.getElementById(\"tensorboard-frame-6dd72be8e36be265\");\n",
       "          const url = new URL(\"/\", window.location);\n",
       "          const port = 6006;\n",
       "          if (port) {\n",
       "            url.port = port;\n",
       "          }\n",
       "          frame.src = url;\n",
       "        })();\n",
       "      </script>\n",
       "    "
      ],
      "text/plain": [
       "<IPython.core.display.HTML object>"
      ]
     },
     "metadata": {},
     "output_type": "display_data"
    },
    {
     "name": "stdout",
     "output_type": "stream",
     "text": [
      "Known TensorBoard instances:\n",
      "  - port 6006: logdir logs/hparam_tuning (started 0:38:53 ago; pid 6148)\n"
     ]
    }
   ],
   "source": [
    "%tensorboard --logdir logs/hparam_tuning\n",
    "notebook.list()"
   ]
  },
  {
   "cell_type": "markdown",
   "id": "ba543fc9-4665-46fc-8adc-4e009dd600ba",
   "metadata": {},
   "source": [
    "## Comparison between NN and GMM classifier"
   ]
  },
  {
   "cell_type": "markdown",
   "id": "418778e7-5740-4310-bab1-29a32ffc2bc7",
   "metadata": {},
   "source": [
    "### Tuned neural network"
   ]
  },
  {
   "cell_type": "code",
   "execution_count": 54,
   "id": "a5b89403-254f-4a4d-b876-a0584507c629",
   "metadata": {},
   "outputs": [],
   "source": [
    "#Best accuracy model\n",
    "\n",
    "best_num_units = 50\n",
    "best_dropout = 0.5\n",
    "best_optimizer = \"adam\"\n",
    "best_activation = \"relu\"\n",
    "\n",
    "#Best recall model\n",
    "\n",
    "# best_num_units = 100\n",
    "# best_dropout = 0.2\n",
    "# best_optimizer = \"adagrad\"\n",
    "# best_activation = \"relu\""
   ]
  },
  {
   "cell_type": "code",
   "execution_count": 56,
   "id": "a7ebf6db-c44a-458e-833b-47decfaac235",
   "metadata": {},
   "outputs": [],
   "source": [
    "keras.backend.clear_session()"
   ]
  },
  {
   "cell_type": "code",
   "execution_count": 58,
   "id": "acea0929-1775-4777-83fd-e73e45693237",
   "metadata": {},
   "outputs": [
    {
     "name": "stdout",
     "output_type": "stream",
     "text": [
      "Model: \"sequential\"\n",
      "_________________________________________________________________\n",
      " Layer (type)                Output Shape              Param #   \n",
      "=================================================================\n",
      " dense (Dense)               (None, 50)                250       \n",
      "                                                                 \n",
      " dropout (Dropout)           (None, 50)                0         \n",
      "                                                                 \n",
      " dense_1 (Dense)             (None, 1)                 51        \n",
      "                                                                 \n",
      "=================================================================\n",
      "Total params: 301\n",
      "Trainable params: 301\n",
      "Non-trainable params: 0\n",
      "_________________________________________________________________\n"
     ]
    }
   ],
   "source": [
    "model_best_hp = keras.models.Sequential([\n",
    "    keras.layers.InputLayer(input_shape=train_X_s.shape[-1]),\n",
    "    keras.layers.Dense(best_num_units, activation=best_activation),\n",
    "    keras.layers.Dropout(best_dropout),\n",
    "    keras.layers.Dense(units=1, activation=\"sigmoid\")\n",
    "])\n",
    "\n",
    "model_best_hp.summary()"
   ]
  },
  {
   "cell_type": "code",
   "execution_count": 60,
   "id": "af4f4536-c488-4b03-addb-3618ec0841cb",
   "metadata": {},
   "outputs": [
    {
     "name": "stdout",
     "output_type": "stream",
     "text": [
      "Epoch 1/15\n",
      "1094/1094 [==============================] - 3s 2ms/step - loss: 0.1829 - accuracy: 0.9581 - val_loss: 0.0734 - val_accuracy: 0.9840\n",
      "Epoch 2/15\n",
      "1094/1094 [==============================] - 2s 2ms/step - loss: 0.0888 - accuracy: 0.9806 - val_loss: 0.0724 - val_accuracy: 0.9835\n",
      "Epoch 3/15\n",
      "1094/1094 [==============================] - 2s 2ms/step - loss: 0.0835 - accuracy: 0.9812 - val_loss: 0.0701 - val_accuracy: 0.9836\n",
      "Epoch 4/15\n",
      "1094/1094 [==============================] - 2s 2ms/step - loss: 0.0798 - accuracy: 0.9820 - val_loss: 0.0684 - val_accuracy: 0.9831\n",
      "Epoch 5/15\n",
      "1094/1094 [==============================] - 2s 2ms/step - loss: 0.0807 - accuracy: 0.9811 - val_loss: 0.0749 - val_accuracy: 0.9831\n",
      "Epoch 6/15\n",
      "1094/1094 [==============================] - 2s 2ms/step - loss: 0.0794 - accuracy: 0.9818 - val_loss: 0.0751 - val_accuracy: 0.9837\n",
      "Epoch 7/15\n",
      "1094/1094 [==============================] - 2s 2ms/step - loss: 0.0783 - accuracy: 0.9816 - val_loss: 0.0736 - val_accuracy: 0.9835\n",
      "Epoch 8/15\n",
      "1094/1094 [==============================] - 2s 2ms/step - loss: 0.0770 - accuracy: 0.9823 - val_loss: 0.0698 - val_accuracy: 0.9832\n",
      "Epoch 9/15\n",
      "1094/1094 [==============================] - 2s 2ms/step - loss: 0.0780 - accuracy: 0.9819 - val_loss: 0.0735 - val_accuracy: 0.9833\n",
      "Epoch 10/15\n",
      "1094/1094 [==============================] - 2s 2ms/step - loss: 0.0793 - accuracy: 0.9817 - val_loss: 0.0697 - val_accuracy: 0.9833\n",
      "Epoch 11/15\n",
      "1094/1094 [==============================] - 2s 2ms/step - loss: 0.0776 - accuracy: 0.9821 - val_loss: 0.0709 - val_accuracy: 0.9835\n",
      "Epoch 12/15\n",
      "1094/1094 [==============================] - 2s 2ms/step - loss: 0.0764 - accuracy: 0.9820 - val_loss: 0.0715 - val_accuracy: 0.9835\n",
      "Epoch 13/15\n",
      "1094/1094 [==============================] - 2s 2ms/step - loss: 0.0788 - accuracy: 0.9822 - val_loss: 0.0679 - val_accuracy: 0.9832\n",
      "Epoch 14/15\n",
      "1094/1094 [==============================] - 2s 2ms/step - loss: 0.0776 - accuracy: 0.9824 - val_loss: 0.0778 - val_accuracy: 0.9841\n",
      "Epoch 15/15\n",
      "1094/1094 [==============================] - 2s 2ms/step - loss: 0.0765 - accuracy: 0.9826 - val_loss: 0.0715 - val_accuracy: 0.9833\n"
     ]
    }
   ],
   "source": [
    "model_best_hp.compile(loss=keras.losses.BinaryCrossentropy(), optimizer=best_optimizer, metrics=[\"accuracy\"])\n",
    "fit = model_best_hp.fit(train_X_s, train_y, epochs=15, validation_data=(val_X_s, val_y), use_multiprocessing=True)"
   ]
  },
  {
   "cell_type": "code",
   "execution_count": 62,
   "id": "05752b8d-403d-4b0d-9848-c17f9dce5fe0",
   "metadata": {},
   "outputs": [
    {
     "name": "stdout",
     "output_type": "stream",
     "text": [
      "235/235 [==============================] - 0s 1ms/step\n"
     ]
    },
    {
     "data": {
      "text/plain": [
       "Text(0, 0.5, 'True positive rate')"
      ]
     },
     "execution_count": 62,
     "metadata": {},
     "output_type": "execute_result"
    },
    {
     "data": {
      "image/png": "[encoded data removed]",
      "text/plain": [
       "<Figure size 640x480 with 1 Axes>"
      ]
     },
     "metadata": {},
     "output_type": "display_data"
    }
   ],
   "source": [
    "prob_test = model_best_hp.predict(test_X_s)\n",
    "\n",
    "#ROC curve to select the threshold\n",
    "fpr, tpr, th = roc_curve(test_y, prob_test)\n",
    "best_th = th[np.argmax(tpr - fpr)]\n",
    "\n",
    "plt.figure()\n",
    "plt.plot(fpr, tpr, color=\"darkcyan\")\n",
    "plt.xlabel(\"False positive rate\")\n",
    "plt.ylabel(\"True positive rate\")"
   ]
  },
  {
   "cell_type": "code",
   "execution_count": 64,
   "id": "2c62b56b-05c0-49a4-abc3-d8a74a40462d",
   "metadata": {},
   "outputs": [
    {
     "name": "stdout",
     "output_type": "stream",
     "text": [
      "Statistics for best threshold: \n",
      "\n",
      "Completeness = 0.9416419386745796\n",
      "Contamination = 0.12096029547553093\n",
      "Accuracy = 0.9746666666666667\n",
      "AUC = 0.9791112678093751\n",
      "C = \n",
      "[[6358  131]\n",
      " [  59  952]]\n"
     ]
    }
   ],
   "source": [
    "#Choose threshold in the upper left part of the ROC curve\n",
    "\n",
    "th_pred = np.array(prob_test.flatten() > best_th, dtype=int)\n",
    "comp, cont = completeness_contamination(th_pred, test_y)\n",
    "\n",
    "C_test = confusion_matrix(test_y, th_pred)\n",
    "\n",
    "print(\"Statistics for best threshold: \\n\")\n",
    "\n",
    "print(\"Completeness = \" + str(comp))\n",
    "print(\"Contamination = \" + str(cont))\n",
    "print(\"Accuracy = \" + str(accuracy_score(test_y, th_pred)))\n",
    "print(\"AUC = \" + str(roc_auc_score(test_y, prob_test)))\n",
    "print(\"C = \\n\" + str(C_test))"
   ]
  },
  {
   "cell_type": "markdown",
   "id": "65e06d61-2b25-4027-8981-556d5aac63f1",
   "metadata": {},
   "source": [
    "### GMM classifier"
   ]
  },
  {
   "cell_type": "code",
   "execution_count": 66,
   "id": "746226b7-2e66-4bf0-b979-62fa3f3b86af",
   "metadata": {},
   "outputs": [
    {
     "name": "stdout",
     "output_type": "stream",
     "text": [
      "Best number of components = 12\n"
     ]
    }
   ],
   "source": [
    "#CV for number of components\n",
    "\n",
    "cv = GridSearchCV(GMMBayes(), {\"n_components\": np.arange(1, 15)}, cv=5)\n",
    "cv.fit(train_X_s, train_y)\n",
    "best_n = cv.best_params_[\"n_components\"]\n",
    "print(\"Best number of components = \" + str(best_n))"
   ]
  },
  {
   "cell_type": "code",
   "execution_count": 68,
   "id": "29ab091c-0b5d-42a7-99a7-ca031330b483",
   "metadata": {},
   "outputs": [
    {
     "data": {
      "text/plain": [
       "<matplotlib.legend.Legend at 0x1b224db64d0>"
      ]
     },
     "execution_count": 68,
     "metadata": {},
     "output_type": "execute_result"
    },
    {
     "data": {
      "image/png": "[encoded data removed]",
      "text/plain": [
       "<Figure size 640x480 with 1 Axes>"
      ]
     },
     "metadata": {},
     "output_type": "display_data"
    }
   ],
   "source": [
    "#GMM training and ROC curve\n",
    "\n",
    "gmm = GMMBayes(best_n)\n",
    "gmm.fit(train_X_s, train_y)\n",
    "\n",
    "labels_gmm = gmm.predict(test_X_s)\n",
    "prob_gmm = gmm.predict_proba(test_X_s)[:, 1]\n",
    "\n",
    "fpr_gmm, tpr_gmm, th_gmm = roc_curve(test_y, prob_gmm)\n",
    "\n",
    "plt.figure()\n",
    "plt.plot(fpr_gmm, tpr_gmm, color=\"darkcyan\", label=\"GMM classifier\")\n",
    "plt.plot(fpr, tpr, color=\"crimson\", label=\"Neural network\")\n",
    "plt.xlabel(\"False positive rate\")\n",
    "plt.ylabel(\"True positive rate\")\n",
    "plt.legend()"
   ]
  },
  {
   "cell_type": "code",
   "execution_count": 70,
   "id": "a9291221-bbff-4bb0-83fc-cd53f76a7700",
   "metadata": {},
   "outputs": [
    {
     "name": "stdout",
     "output_type": "stream",
     "text": [
      "Statistics for best threshold: \n",
      "\n",
      "Completeness = 0.9574678536102869\n",
      "Contamination = 0.17546848381601363\n",
      "Accuracy = 0.9668\n",
      "AUC = 0.9628609109321274\n",
      "C = \n",
      "[[6283  206]\n",
      " [  43  968]]\n"
     ]
    }
   ],
   "source": [
    "best_th_gmm = th_gmm[np.argmax(tpr_gmm - fpr_gmm)]\n",
    "best_pred_gmm = np.array(prob_gmm >= best_th_gmm, dtype=bool)\n",
    "\n",
    "comp_gmm, cont_gmm = completeness_contamination(best_pred_gmm, test_y)\n",
    "\n",
    "print(\"Statistics for best threshold: \\n\")\n",
    "\n",
    "print(\"Completeness = \" + str(comp_gmm))\n",
    "print(\"Contamination = \" + str(cont_gmm))\n",
    "print(\"Accuracy = \" + str(accuracy_score(test_y, best_pred_gmm)))\n",
    "print(\"AUC = \" + str(roc_auc_score(test_y, best_pred_gmm)))\n",
    "print(\"C = \\n\" + str(confusion_matrix(test_y, best_pred_gmm)))"
   ]
  },
  {
   "cell_type": "markdown",
   "id": "1e9a785d-9212-42db-a355-4770bd6c60a2",
   "metadata": {},
   "source": [
    "The results of the GMM classifier and of the neural network are comparable, so the NN isn't really needed for this problem."
   ]
  },
  {
   "cell_type": "code",
   "execution_count": null,
   "id": "30835705-63b8-4626-9be5-d23d4bdb6ad2",
   "metadata": {},
   "outputs": [],
   "source": []
  }
 ],
 "metadata": {
  "kernelspec": {
   "display_name": "Python [conda env:astroML]",
   "language": "python",
   "name": "conda-env-astroML-py"
  },
  "language_info": {
   "codemirror_mode": {
    "name": "ipython",
    "version": 3
   },
   "file_extension": ".py",
   "mimetype": "text/x-python",
   "name": "python",
   "nbconvert_exporter": "python",
   "pygments_lexer": "ipython3",
   "version": "3.10.11"
  }
 },
 "nbformat": 4,
 "nbformat_minor": 5
}
